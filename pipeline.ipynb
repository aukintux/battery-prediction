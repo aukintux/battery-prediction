{
 "cells": [
  {
   "cell_type": "markdown",
   "metadata": {},
   "source": [
    "## ML Pipeline"
   ]
  },
  {
   "cell_type": "markdown",
   "metadata": {},
   "source": [
    "The procedure goes as follows:\n",
    "\n",
    "1. Convert categorical variables into dummy variables.\n",
    "2. Standarize features using StandardScaler.\n",
    "3. Classify data into two categories: risk=0 or risk!=0.\n",
    "4. If risk!=0 then classify the observation into risk=-1 or risk!=-1.\n",
    "5. If risk!=-1 then use a regression algorithm to predict the risk value."
   ]
  },
  {
   "cell_type": "code",
   "execution_count": 337,
   "metadata": {
    "collapsed": true
   },
   "outputs": [],
   "source": [
    "# Import the data\n",
    "import pandas as pd\n",
    "df = pd.read_csv('./contest_public/train.csv')"
   ]
  },
  {
   "cell_type": "markdown",
   "metadata": {},
   "source": [
    "### Preprocessing Class"
   ]
  },
  {
   "cell_type": "code",
   "execution_count": 338,
   "metadata": {
    "collapsed": true
   },
   "outputs": [],
   "source": [
    "# Scales the continuous variables of the DataFrame of battery instances and creates dummie variables for the categorical\n",
    "class BatteryDataframeProcessor:\n",
    "    def __init__(self):\n",
    "        # Import packages\n",
    "        from sklearn.preprocessing import StandardScaler\n",
    "        import pandas as pd\n",
    "        # Standard Scaler Object\n",
    "        self.scaler = StandardScaler()\n",
    "        # Fixed variables. Depending on DataFrame structure\n",
    "        self.categorical_nominal_features = None\n",
    "        self.continuous_features_filter = None\n",
    "        self.dummy_cols_set_train = None\n",
    "        \n",
    "    def fit(self, df):\n",
    "        try:\n",
    "            self.scaler.mean_\n",
    "            print(\"Already fitted battery data to BatteryDataScaler.\")\n",
    "        except:\n",
    "            # Array of categorical nominal features. batt_instance has primary and secondary. However secondary can be multiple (more than 2) uses\n",
    "            self.categorical_nominal_features = ['event_country_code', 'batt_manufacturer', 'batt_instance']\n",
    "            # Continuous features filter\n",
    "            self.continuous_features_filter = (df.columns != 'event_country_code') & (df.columns != 'batt_manufacturer') & (df.columns != 'batt_instance') & (df.columns != 'risk')\n",
    "            # Split dataframe into three: categorical and continuous variables and predictor variable.\n",
    "            df_cont_vars = df.loc[:, self.continuous_features_filter]\n",
    "            # Fit scaler \n",
    "            self.scaler.fit(df_cont_vars.values)\n",
    "            \n",
    "    def transform(self, df, is_test_set=False):\n",
    "        try:\n",
    "            self.scaler.mean_\n",
    "            # Split dataframe into three: categorical and continuous variables and predictor variable.\n",
    "            df_cont_vars = df.loc[:, self.continuous_features_filter]\n",
    "            df_cat_vars_dummies = pd.get_dummies(df.loc[:, self.categorical_nominal_features], drop_first=True)\n",
    "            # Scale continuous variables\n",
    "            x_cont_scaled = self.scaler.transform(df_cont_vars.values)\n",
    "            # Create a dataframe of the continuous scaled variables\n",
    "            df_cont_vars_scaled = pd.DataFrame(data=x_cont_scaled, columns = df_cont_vars.columns, index=df_cont_vars.index)\n",
    "            # Concatenate dataframes back up\n",
    "            if is_test_set==False:\n",
    "                # Save dummy columns of train data set\n",
    "                self.dummy_cols_set_train = set(df_cat_vars_dummies.columns)\n",
    "                # Return processed dataframe\n",
    "                return pd.concat([df_cont_vars_scaled, df_cat_vars_dummies, df.loc[:, 'risk']], axis=1)\n",
    "            else:\n",
    "                # Only include dummy columns which also appear on the train set. \n",
    "                # Since they are categorical there is no way to compare new values\n",
    "                dummy_cols_set_test = set(df_cat_vars_dummies.columns)\n",
    "                # Columns that are in the test and train set\n",
    "                cols_intersection = self.dummy_cols_set_train & dummy_cols_set_test\n",
    "                # Columns that are in the train set but not in the test set\n",
    "                cols_only_in_train = self.dummy_cols_set_train - dummy_cols_set_test\n",
    "                # Only save the ones that are in the intersection\n",
    "                df_cat_vars_dummies = df_cat_vars_dummies[list(cols_intersection)]\n",
    "                # Add up the ones that are not in the test set but that are on the train set\n",
    "                for col in list(cols_only_in_train): df_cat_vars_dummies[col] = 0\n",
    "                # Return processed dataframe\n",
    "                return pd.concat([df_cont_vars_scaled, df_cat_vars_dummies], axis=1)\n",
    "        except:\n",
    "            print(\"The processor fit method must be called first.\")"
   ]
  },
  {
   "cell_type": "markdown",
   "metadata": {},
   "source": [
    "### Heat Map Plot"
   ]
  },
  {
   "cell_type": "code",
   "execution_count": 339,
   "metadata": {
    "collapsed": true
   },
   "outputs": [],
   "source": [
    "def plot_heatmap(cv_model, param_grid, col_name, row_name, title):\n",
    "    # Convert scores to dataframe content for heatmap\n",
    "    df_content = []\n",
    "    row = []\n",
    "    num_rows = len(param_grid[row_name])\n",
    "    for i, score in enumerate(cv_model.cv_results_['mean_test_score']):\n",
    "        row.append(score) \n",
    "        # Add to df_content every num_rows\n",
    "        if ((i+1)%num_rows == 0) and (i > 0):\n",
    "            df_content.append(row)\n",
    "            row = []\n",
    "    # Columns\n",
    "    cols = param_grid[row_name]\n",
    "    # Rows\n",
    "    rows = param_grid[col_name]\n",
    "    # Create dataframe for heatmap\n",
    "    df = pd.DataFrame(data=df_content, columns=cols, index=rows)\n",
    "    # Create heatmap\n",
    "    import seaborn as sns\n",
    "    import matplotlib.pyplot as plt\n",
    "    ax = plt.axes()\n",
    "    # Show heatmap\n",
    "    sns.heatmap(df, ax=ax)\n",
    "    ax.set_title(title)\n",
    "    ax.set_ylabel(col_name)\n",
    "    ax.set_xlabel(row_name)\n",
    "    plt.show()"
   ]
  },
  {
   "cell_type": "markdown",
   "metadata": {},
   "source": [
    "### Normal Distribution Plot"
   ]
  },
  {
   "cell_type": "code",
   "execution_count": 340,
   "metadata": {
    "collapsed": true
   },
   "outputs": [],
   "source": [
    "def plot_normal_dist(mu, sigma, xlabel, title):\n",
    "    import matplotlib.pyplot as plt\n",
    "    import numpy as np\n",
    "    import matplotlib.mlab as mlab\n",
    "    import math\n",
    "    x = np.linspace(mu - 3*sigma, mu + 3*sigma, 100)\n",
    "    plt.plot(x,mlab.normpdf(x, mu, sigma))\n",
    "    plt.title(title)\n",
    "    plt.xlabel(xlabel)\n",
    "    plt.ylabel('Probability Density')\n",
    "    plt.show()"
   ]
  },
  {
   "cell_type": "markdown",
   "metadata": {},
   "source": [
    "### Data Preprocessing"
   ]
  },
  {
   "cell_type": "code",
   "execution_count": 341,
   "metadata": {},
   "outputs": [
    {
     "name": "stderr",
     "output_type": "stream",
     "text": [
      "/Users/pedroatencio/anaconda/envs/py361/lib/python3.6/site-packages/sklearn/utils/validation.py:475: DataConversionWarning: Data with input dtype int64 was converted to float64 by StandardScaler.\n",
      "  warnings.warn(msg, DataConversionWarning)\n"
     ]
    }
   ],
   "source": [
    "# Initialize BatteryDataFrameProcessor\n",
    "processor = BatteryDataframeProcessor()\n",
    "# Fit BatteryDataFrameProcessor\n",
    "processor.fit(df)\n",
    "# Preprocess the train and test dataframes so that categorical values get dummied and continuous get standard scaled\n",
    "df_processed = processor.transform(df)"
   ]
  },
  {
   "cell_type": "markdown",
   "metadata": {},
   "source": [
    "The data warning shows up because StandardScaler is notitying that maybe the variable 'installed_count' could\n",
    "be categorical. Even though 'installed_count' ony spans the values 1 and 2 it could be possibly more. The specifications don't say that this are all the permitted values, thus it is treated inside the scaler."
   ]
  },
  {
   "cell_type": "markdown",
   "metadata": {},
   "source": [
    "### PCA Analysis"
   ]
  },
  {
   "cell_type": "code",
   "execution_count": 342,
   "metadata": {},
   "outputs": [
    {
     "data": {
      "text/plain": [
       "<matplotlib.text.Text at 0x1178380f0>"
      ]
     },
     "execution_count": 342,
     "metadata": {},
     "output_type": "execute_result"
    },
    {
     "data": {
      "image/png": "[encoded data removed]",
      "text/plain": [
       "<matplotlib.figure.Figure at 0x11783b0f0>"
      ]
     },
     "metadata": {},
     "output_type": "display_data"
    }
   ],
   "source": [
    "%matplotlib inline\n",
    "# Explore PCA option\n",
    "from sklearn.decomposition import PCA\n",
    "import matplotlib.pyplot as plt\n",
    "import numpy as np\n",
    "pca = PCA()\n",
    "X = df_processed.loc[:, df_processed.columns != 'risk'].values\n",
    "pca.fit(X)\n",
    "cum_sum_variance = np.cumsum(pca.explained_variance_ratio_)\n",
    "plt.plot(cum_sum_variance)\n",
    "plt.xlabel('number of components')\n",
    "plt.ylabel('cumulative explained variance')"
   ]
  },
  {
   "cell_type": "code",
   "execution_count": 343,
   "metadata": {},
   "outputs": [
    {
     "name": "stdout",
     "output_type": "stream",
     "text": [
      "At 50 principal components the cumulative variance is: 99.37%\n"
     ]
    }
   ],
   "source": [
    "print(\"At 50 principal components the cumulative variance is: {0:1.2%}\".format(cum_sum_variance[50]))"
   ]
  },
  {
   "cell_type": "markdown",
   "metadata": {},
   "source": [
    "Further exloration with PCA was done as stated in the report. Along with this methods and others. However it did not gave better results than the ones here stated."
   ]
  },
  {
   "cell_type": "markdown",
   "metadata": {},
   "source": [
    "### F_1 Optimization"
   ]
  },
  {
   "cell_type": "code",
   "execution_count": 344,
   "metadata": {
    "collapsed": true
   },
   "outputs": [],
   "source": [
    "# Import modules\n",
    "from sklearn.model_selection import GridSearchCV\n",
    "from sklearn.metrics import classification_report \n",
    "from sklearn.model_selection import train_test_split"
   ]
  },
  {
   "cell_type": "code",
   "execution_count": 345,
   "metadata": {
    "collapsed": true
   },
   "outputs": [],
   "source": [
    "# Get X and y\n",
    "X = df_processed.loc[:, df_processed.columns != 'risk'].values\n",
    "y = df_processed.loc[:, 'risk'].map(lambda x: 1 if x==0 else 0).values\n",
    "# Set X_train, X_test, y_train and y_test\n",
    "X_train, X_test, y_train, y_test = train_test_split(X, y, test_size=0.3, random_state=42)"
   ]
  },
  {
   "cell_type": "code",
   "execution_count": 346,
   "metadata": {},
   "outputs": [
    {
     "name": "stdout",
     "output_type": "stream",
     "text": [
      "F1 Score: 0.9981072555205047\n",
      "Tuned Model Parameters: {'max_depth': 20, 'min_samples_split': 6}\n",
      "Standard Deviation Test Scores: [ 0.00507132  0.00546062  0.00561788  0.00169385  0.0018936   0.00291815\n",
      "  0.00203632  0.00220574  0.00308415]\n",
      "Standard Deviation Train Scores: [ 0.00152014  0.00156126  0.00158415  0.00062006  0.00040949  0.00018795\n",
      "  0.00074317  0.00052723  0.00011515]\n"
     ]
    },
    {
     "data": {
      "image/png": "[encoded data removed]",
      "text/plain": [
       "<matplotlib.figure.Figure at 0x117847518>"
      ]
     },
     "metadata": {},
     "output_type": "display_data"
    }
   ],
   "source": [
    "# Import module\n",
    "from sklearn.tree import DecisionTreeClassifier\n",
    "# Initialize SVC model\n",
    "model = DecisionTreeClassifier(random_state=42)\n",
    "# Param grid for GridSearchCV\n",
    "param_grid = {'max_depth':[10, 20, 50],\n",
    "              'min_samples_split':[7, 6, 5]}\n",
    "# Initialize GridSearchCV\n",
    "cv = GridSearchCV(model, param_grid, cv=5, scoring='f1', return_train_score=True)\n",
    "# Fit GridSearchCV. Find optimal.\n",
    "cv.fit(X, y)\n",
    "# Predict\n",
    "y_pred = cv.predict(X_test)\n",
    "# Metrics\n",
    "print(\"F1 Score: {}\".format(cv.score(X_test, y_test)))\n",
    "print(\"Tuned Model Parameters: {}\".format(cv.best_params_))\n",
    "# Check how robust the model is checking the standard deviations of the scores\n",
    "print(\"Standard Deviation Test Scores: {}\".format(cv.cv_results_['std_test_score']))\n",
    "print(\"Standard Deviation Train Scores: {}\".format(cv.cv_results_['std_train_score']))\n",
    "# Plot heatmap\n",
    "plot_heatmap(cv, param_grid, 'max_depth', 'min_samples_split', 'F1 Score Params Heatmap')"
   ]
  },
  {
   "cell_type": "code",
   "execution_count": 347,
   "metadata": {},
   "outputs": [
    {
     "data": {
      "image/png": "[encoded data removed]",
      "text/plain": [
       "<matplotlib.figure.Figure at 0x11780ccf8>"
      ]
     },
     "metadata": {},
     "output_type": "display_data"
    }
   ],
   "source": [
    "# Plot normal distribution of scores\n",
    "plot_normal_dist(cv.score(X_test, y_test), cv.cv_results_['std_test_score'][4], 'F_1 Score', 'F_1 Distribution')"
   ]
  },
  {
   "cell_type": "markdown",
   "metadata": {},
   "source": [
    "### Custom MRAE Optimization"
   ]
  },
  {
   "cell_type": "code",
   "execution_count": 348,
   "metadata": {
    "collapsed": true
   },
   "outputs": [],
   "source": [
    "# Mean relative absolute error function\n",
    "def custom_mrae(y_test, y_pred):\n",
    "    import numpy as np\n",
    "    # Get relative difference\n",
    "    ary = np.abs((y_test - y_pred)*1.0/y_pred)\n",
    "    # Set the max to one for each value\n",
    "    ary[np.where(ary > 1)] = 1\n",
    "    # Get the mean\n",
    "    return np.mean(ary)\n",
    "# Loss function. Since custom_mrae goes from 0 to 1\n",
    "def custom_loss_func(y_test, y_pred):\n",
    "    return 1-custom_mrae(y_test, y_pred)"
   ]
  },
  {
   "cell_type": "code",
   "execution_count": 349,
   "metadata": {
    "collapsed": true
   },
   "outputs": [],
   "source": [
    "# Get the samples where risk != 0 and risk != -1\n",
    "df_processed_two = df_processed[df_processed['risk'] > 0]\n",
    "# Get X and y\n",
    "X_two = df_processed_two.loc[:, df_processed_two.columns != 'risk'].values\n",
    "y_two = df_processed_two.loc[:, 'risk'].values\n",
    "# Set X_train, X_test, y_train and y_test\n",
    "X_two_train, X_two_test, y_two_train, y_two_test = train_test_split(X_two, y_two, test_size=0.2, random_state=42)"
   ]
  },
  {
   "cell_type": "code",
   "execution_count": 350,
   "metadata": {},
   "outputs": [
    {
     "name": "stdout",
     "output_type": "stream",
     "text": [
      "Custom MRAE Based Score: 0.9819763478431613\n",
      "Custom MRAE: 0.018023652156838658\n",
      "Tuned Model Parameters: {'max_depth': 30, 'min_samples_split': 4}\n",
      "Standard Deviation Test Scores: [ 0.00422636  0.003982    0.00419071  0.00260117  0.00202027  0.0020589\n",
      "  0.00170697  0.0011235   0.00115203  0.00170697  0.0011235   0.00115203\n",
      "  0.00170697  0.0011235   0.00115203]\n",
      "Standard Deviation Train Scores: [ 0.00202345  0.00199752  0.00198439  0.00076494  0.00083422  0.00098813\n",
      "  0.00070621  0.00061224  0.00053627  0.00070621  0.00061224  0.00053627\n",
      "  0.00070621  0.00061224  0.00053627]\n"
     ]
    },
    {
     "data": {
      "image/png": "[encoded data removed]",
      "text/plain": [
       "<matplotlib.figure.Figure at 0x1161156d8>"
      ]
     },
     "metadata": {},
     "output_type": "display_data"
    }
   ],
   "source": [
    "# Import module\n",
    "from sklearn.tree import DecisionTreeRegressor\n",
    "# Initialize SVC model\n",
    "model_two = DecisionTreeRegressor(random_state=42)\n",
    "# Param grid for GridSearchCV\n",
    "param_grid_two = {'max_depth':[10, 20, 30, 40, 50],\n",
    "              'min_samples_split':[6, 5, 4]}\n",
    "# Make scorer function\n",
    "from sklearn.metrics import make_scorer\n",
    "mrae_based_score = make_scorer(custom_loss_func, greater_is_better=True)\n",
    "# Initialize GridSearchCV\n",
    "cv_two = GridSearchCV(model_two, param_grid_two, cv=5, scoring=mrae_based_score, return_train_score=True)\n",
    "# Fit GridSearchCV. Find optimal.\n",
    "cv_two.fit(X_two_train, y_two_train)\n",
    "# Predict\n",
    "y_two_pred = cv_two.predict(X_two_test)\n",
    "# Metrics\n",
    "print(\"Custom MRAE Based Score: {}\".format(cv_two.score(X_two_test, y_two_test)))\n",
    "print(\"Custom MRAE: {}\".format(custom_mrae(y_two_test, y_two_pred)))\n",
    "print(\"Tuned Model Parameters: {}\".format(cv_two.best_params_))\n",
    "# Check how robust the model is checking the standard deviations of the scores\n",
    "print(\"Standard Deviation Test Scores: {}\".format(cv_two.cv_results_['std_test_score']))\n",
    "print(\"Standard Deviation Train Scores: {}\".format(cv_two.cv_results_['std_train_score']))\n",
    "# Plot heatmap\n",
    "plot_heatmap(cv_two, param_grid_two, 'max_depth', 'min_samples_split', 'Custom MRAE Params Heatmap')"
   ]
  },
  {
   "cell_type": "code",
   "execution_count": 351,
   "metadata": {},
   "outputs": [
    {
     "data": {
      "image/png": "[encoded data removed]",
      "text/plain": [
       "<matplotlib.figure.Figure at 0x116112518>"
      ]
     },
     "metadata": {},
     "output_type": "display_data"
    }
   ],
   "source": [
    "plot_normal_dist(custom_mrae(y_two_test, y_two_pred), cv_two.cv_results_['std_test_score'][8], 'Custom MRAE', 'Custom MRAE Distribution')"
   ]
  },
  {
   "cell_type": "markdown",
   "metadata": {},
   "source": [
    "### Final Score"
   ]
  },
  {
   "cell_type": "code",
   "execution_count": 352,
   "metadata": {},
   "outputs": [
    {
     "name": "stdout",
     "output_type": "stream",
     "text": [
      "Final Score: 1.9800836033636662\n"
     ]
    }
   ],
   "source": [
    "# Final score\n",
    "print(\"Final Score: {}\".format(cv.score(X_test, y_test) + 1 - custom_mrae(y_two_test, y_two_pred)))"
   ]
  },
  {
   "cell_type": "markdown",
   "metadata": {},
   "source": [
    "### Test Set Predictions"
   ]
  },
  {
   "cell_type": "markdown",
   "metadata": {},
   "source": [
    "You can change the test set file in the following line of code."
   ]
  },
  {
   "cell_type": "code",
   "execution_count": 353,
   "metadata": {},
   "outputs": [
    {
     "name": "stderr",
     "output_type": "stream",
     "text": [
      "/Users/pedroatencio/anaconda/envs/py361/lib/python3.6/site-packages/sklearn/utils/validation.py:475: DataConversionWarning: Data with input dtype int64 was converted to float64 by StandardScaler.\n",
      "  warnings.warn(msg, DataConversionWarning)\n"
     ]
    }
   ],
   "source": [
    "# Read test.csv\n",
    "df_test = pd.read_csv('./contest_public/test.csv')\n",
    "# Preprocess dataset\n",
    "df_test_processed = processor.transform(df_test, is_test_set=True)\n",
    "# Data test set\n",
    "X_test_set = df_test_processed.values"
   ]
  },
  {
   "cell_type": "markdown",
   "metadata": {},
   "source": [
    "The data warning shows up because StandardScaler is notitying that maybe the variable 'installed_count' could\n",
    "be categorical. Even though 'installed_count' ony spans the values 1 and 2 it could be possibly more. The specifications don't say that this are all the permitted values, thus it is treated inside the scaler."
   ]
  },
  {
   "cell_type": "code",
   "execution_count": 354,
   "metadata": {},
   "outputs": [
    {
     "name": "stdout",
     "output_type": "stream",
     "text": [
      "Of the 15268 samples 136(0.9%) are predicted as having risk = 0 and 15132(99.1%) as having risk != 0.\n"
     ]
    }
   ],
   "source": [
    "# Predict if risk = 0 or risk != 0\n",
    "pred = cv.predict(X_test_set)\n",
    "# Get indices where risk = 0. That is, for those whose pred = 1\n",
    "indices_bad = np.argwhere(pred == 1).flatten()\n",
    "# Get indices where risk != 0. That is, for those whose pred = 0\n",
    "indices_not_bad = np.argwhere(pred == 0).flatten()\n",
    "# Predict for those that have risk != 0\n",
    "pred_not_bad = cv_two.predict(X_test_set[indices_not_bad])\n",
    "# Set final predictions\n",
    "pred[indices_not_bad] = pred_not_bad\n",
    "pred[indices_bad] = 0\n",
    "# Print stats\n",
    "print(\"Of the {0} samples {1}({2:1.1%}) are predicted as having risk = 0 and {3}({4:1.1%}) as having risk != 0.\".\n",
    "     format(len(pred), sum(pred==0), sum(pred==0)/len(pred), sum(pred!=0), sum(pred!=0)/len(pred)))"
   ]
  },
  {
   "cell_type": "code",
   "execution_count": 355,
   "metadata": {
    "collapsed": true
   },
   "outputs": [],
   "source": [
    "# Save predictions to a predictions.csv file\n",
    "df_pred = pd.DataFrame(data=pred, columns=['RISK'])\n",
    "df_pred.to_csv('predictions.csv', index=False)\n",
    "# Remove last line as it is a blank space\n",
    "with open('predictions.csv') as f:\n",
    "    lines = f.readlines()\n",
    "    last = len(lines) - 1\n",
    "    lines[last] = lines[last].replace('\\r','').replace('\\n','')\n",
    "with open('predictions.csv', 'w') as wr:\n",
    "    wr.writelines(lines)"
   ]
  }
 ],
 "metadata": {
  "kernelspec": {
   "display_name": "Python (3.6.1)",
   "language": "python",
   "name": "py361"
  },
  "language_info": {
   "codemirror_mode": {
    "name": "ipython",
    "version": 3
   },
   "file_extension": ".py",
   "mimetype": "text/x-python",
   "name": "python",
   "nbconvert_exporter": "python",
   "pygments_lexer": "ipython3",
   "version": "3.6.1"
  }
 },
 "nbformat": 4,
 "nbformat_minor": 2
}
