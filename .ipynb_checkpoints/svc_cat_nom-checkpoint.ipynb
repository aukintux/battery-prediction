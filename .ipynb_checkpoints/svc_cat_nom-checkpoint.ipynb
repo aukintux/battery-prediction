{
 "cells": [
  {
   "cell_type": "markdown",
   "metadata": {},
   "source": [
    "##### ML Pipeline"
   ]
  },
  {
   "cell_type": "markdown",
   "metadata": {},
   "source": [
    "The procedure goes as follows:\n",
    "\n",
    "1. Convert categorical variables into dummy variables.\n",
    "2. Standarize features using StandardScaler.\n",
    "3. Classify data into two categories: risk=0 or risk!=0.\n",
    "4. If risk!=0 then classify the observation into risk=-1 or risk!=-1.\n",
    "5. If risk!=-1 then use a regression algorithm to predict the risk value."
   ]
  },
  {
   "cell_type": "code",
   "execution_count": 2,
   "metadata": {
    "collapsed": true
   },
   "outputs": [],
   "source": [
    "# Import the data\n",
    "import pandas as pd\n",
    "df = pd.read_csv('./contest_public/train.csv')"
   ]
  },
  {
   "cell_type": "markdown",
   "metadata": {},
   "source": [
    "### Preprocessing"
   ]
  },
  {
   "cell_type": "code",
   "execution_count": 3,
   "metadata": {
    "collapsed": true
   },
   "outputs": [],
   "source": [
    "# Scales the continuous variables of the DataFrame of battery instances and creates dummie variables for the categorical\n",
    "class BatteryDataframeProcessor:\n",
    "    def __init__(self):\n",
    "        # Import packages\n",
    "        from sklearn.preprocessing import StandardScaler\n",
    "        import pandas as pd\n",
    "        # Standard Scaler Object\n",
    "        self.scaler = StandardScaler()\n",
    "        # Fixed variables. Depending on DataFrame structure\n",
    "        self.categorical_nominal_features = None\n",
    "        self.continuous_features_filter = None\n",
    "        \n",
    "    def fit(self, df):\n",
    "        try:\n",
    "            self.scaler.mean_\n",
    "            print(\"Already fitted battery data to BatteryDataScaler.\")\n",
    "        except:\n",
    "            # Array of categorical nominal features. batt_instance has primary and secondary. However secondary can be multiple (more than 2) uses\n",
    "            self.categorical_nominal_features = ['event_country_code', 'batt_manufacturer', 'batt_instance']\n",
    "            # Continuous features filter\n",
    "            self.continuous_features_filter = (df.columns != 'event_country_code') & (df.columns != 'batt_manufacturer') & (df.columns != 'batt_instance') & (df.columns != 'risk')\n",
    "            # Split dataframe into three: categorical and continuous variables and predictor variable.\n",
    "            df_cont_vars = df.loc[:, self.continuous_features_filter]\n",
    "            # Fit scaler \n",
    "            self.scaler.fit(df_cont_vars.values)\n",
    "            \n",
    "    def transform(self, df, is_test_set=False):\n",
    "        try:\n",
    "            self.scaler.mean_\n",
    "            # Split dataframe into three: categorical and continuous variables and predictor variable.\n",
    "            df_cont_vars = df.loc[:, self.continuous_features_filter]\n",
    "            df_cat_vars_dummies = pd.get_dummies(df.loc[:, self.categorical_nominal_features], drop_first=True)\n",
    "            # Scale continuous variables\n",
    "            x_cont_scaled = self.scaler.transform(df_cont_vars.values)\n",
    "            # Create a dataframe of the continuous scaled variables\n",
    "            df_cont_vars_scaled = pd.DataFrame(data=x_cont_scaled, columns = df_cont_vars.columns, index=df_cont_vars.index)\n",
    "            # Concatenate dataframes back up\n",
    "            if is_test_set==False:\n",
    "                return pd.concat([df_cont_vars_scaled, df_cat_vars_dummies, df.loc[:, 'risk']], axis=1)\n",
    "            else:\n",
    "                return pd.concat([df_cont_vars_scaled, df_cat_vars_dummies], axis=1)\n",
    "        except:\n",
    "            print(\"The processor fit method must be called first.\")"
   ]
  },
  {
   "cell_type": "code",
   "execution_count": 4,
   "metadata": {},
   "outputs": [
    {
     "name": "stderr",
     "output_type": "stream",
     "text": [
      "/Users/pedroatencio/anaconda/envs/py361/lib/python3.6/site-packages/sklearn/utils/validation.py:475: DataConversionWarning: Data with input dtype int64 was converted to float64 by StandardScaler.\n",
      "  warnings.warn(msg, DataConversionWarning)\n"
     ]
    }
   ],
   "source": [
    "# Initialize BatteryDataFrameProcessor\n",
    "processor = BatteryDataframeProcessor()\n",
    "# Fit BatteryDataFrameProcessor\n",
    "processor.fit(df)\n",
    "# Preprocess the train and test dataframes so that categorical values get dummied and continuous get standard scaled\n",
    "df_processed = processor.transform(df)"
   ]
  },
  {
   "cell_type": "markdown",
   "metadata": {},
   "source": [
    "The data warning shows up because StandardScaler is notitying that maybe the variable 'installed_count' could\n",
    "be categorical. Even though 'installed_count' ony spans the values 1 and 2 it could be possibly more. The specifications don't say that this are all the permitted values, thus it is treated inside the scaler."
   ]
  },
  {
   "cell_type": "markdown",
   "metadata": {},
   "source": [
    "### Heat Map"
   ]
  },
  {
   "cell_type": "code",
   "execution_count": 1,
   "metadata": {
    "collapsed": true
   },
   "outputs": [],
   "source": [
    "def plot_heatmap(cv_model, param_grid, row_name, col_name):\n",
    "    # Convert scores to dataframe content for heatmap\n",
    "    df_content = []\n",
    "    row = []\n",
    "    num_cols = len(param_grid[col_name])\n",
    "    for i, score in enumerate(cv_model.cv_results_['mean_test_score']):\n",
    "        row.append(score) \n",
    "        # Add to df_content every num_cols\n",
    "        if ((i+1)%num_cols == 0) and (i > 0):\n",
    "            df_content.append(row)\n",
    "            row = []\n",
    "    # Columns\n",
    "    cols = param_grid[col_name]\n",
    "    # Rows\n",
    "    rows = param_grid[row_name]\n",
    "    # Create dataframe for heatmap\n",
    "    df = pd.DataFrame(data=df_content, columns=cols, index=rows)\n",
    "    # Create heatmap\n",
    "    import seaborn as sns\n",
    "    import matplotlib.pyplot as plt\n",
    "    # Show heatmap\n",
    "    sns.heatmap(df)\n",
    "    plt.show()"
   ]
  },
  {
   "cell_type": "markdown",
   "metadata": {},
   "source": [
    "### Learning Algo: Zero"
   ]
  },
  {
   "cell_type": "code",
   "execution_count": 5,
   "metadata": {
    "collapsed": true
   },
   "outputs": [],
   "source": [
    "# Import modules\n",
    "from sklearn.svm import SVC\n",
    "from sklearn.model_selection import GridSearchCV\n",
    "from sklearn.metrics import classification_report \n",
    "from sklearn.model_selection import train_test_split"
   ]
  },
  {
   "cell_type": "code",
   "execution_count": 6,
   "metadata": {
    "collapsed": true
   },
   "outputs": [],
   "source": [
    "# Get X and y\n",
    "X = df_processed.loc[:, df_processed.columns != 'risk'].values\n",
    "y = df_processed.loc[:, 'risk'].map(lambda x: 1 if x==0 else 0).values\n",
    "# Set X_train, X_test, y_train and y_test\n",
    "X_train, X_test, y_train, y_test = train_test_split(X, y, test_size=0.3, random_state=42)"
   ]
  },
  {
   "cell_type": "code",
   "execution_count": 23,
   "metadata": {},
   "outputs": [
    {
     "name": "stdout",
     "output_type": "stream",
     "text": [
      "F1 Score: 0.9823455233291299\n",
      "             precision    recall  f1-score   support\n",
      "\n",
      "          0       1.00      1.00      1.00     25293\n",
      "          1       0.98      0.98      0.98       794\n",
      "\n",
      "avg / total       1.00      1.00      1.00     26087\n",
      "\n",
      "Tuned Model Parameters: {'C': 50, 'gamma': 0.05}\n"
     ]
    },
    {
     "data": {
      "image/png": "[encoded data removed]",
      "text/plain": [
       "<matplotlib.figure.Figure at 0x123a4fd30>"
      ]
     },
     "metadata": {},
     "output_type": "display_data"
    }
   ],
   "source": [
    "# Initialize SVC model\n",
    "model = SVC()\n",
    "# Param grid for GridSearchCV\n",
    "param_grid = {'C':[150, 50],\n",
    "              'gamma':[0.05, 0.15]}\n",
    "# Initialize GridSearchCV\n",
    "cv = GridSearchCV(model, param_grid, scoring='f1', cv=5)\n",
    "# Fit GridSearchCV. Find optimal.\n",
    "cv.fit(X_train, y_train)\n",
    "# Predict\n",
    "y_pred = cv.predict(X_test)\n",
    "# Metrics\n",
    "print(\"F1 Score: {}\".format(cv.score(X_test, y_test)))\n",
    "print(classification_report(y_test, y_pred))\n",
    "print(\"Tuned Model Parameters: {}\".format(cv.best_params_))\n",
    "plot_heatmap(cv, param_grid, 'C', 'gamma')"
   ]
  },
  {
   "cell_type": "markdown",
   "metadata": {},
   "source": [
    "### Learning Algo: Not zero nor minus one"
   ]
  },
  {
   "cell_type": "code",
   "execution_count": 10,
   "metadata": {
    "collapsed": true
   },
   "outputs": [],
   "source": [
    "# Mean relative absolute error function\n",
    "def custom_mrae(y_test, y_pred):\n",
    "    import numpy as np\n",
    "    # Get relative difference\n",
    "    ary = np.abs((y_test - y_pred)*1.0/y_pred)\n",
    "    # Set the max to one for each value\n",
    "    ary[np.where(ary > 1)] = 1\n",
    "    # Get the mean\n",
    "    return np.mean(ary)\n",
    "# Loss function. Since custom_mrae goes from 0 to 1\n",
    "def custom_loss_func(y_test, y_pred):\n",
    "    return 1-custom_mrae(y_test, y_pred)"
   ]
  },
  {
   "cell_type": "code",
   "execution_count": 11,
   "metadata": {
    "collapsed": true
   },
   "outputs": [],
   "source": [
    "# Get the samples where risk != 0 and risk != -1\n",
    "df_processed_two = df_processed[(df_processed['risk'] != 0) & (df_processed['risk'] != -1)]"
   ]
  },
  {
   "cell_type": "code",
   "execution_count": 21,
   "metadata": {},
   "outputs": [
    {
     "name": "stdout",
     "output_type": "stream",
     "text": [
      "Custom MRAE Based Score: 0.9810477582037788\n",
      "Custom MRAE: 0.0189522417962212\n",
      "Tuned Model Parameters: {'max_depth': 300, 'min_samples_split': 5}\n"
     ]
    },
    {
     "data": {
      "image/png": "[encoded data removed]",
      "text/plain": [
       "<matplotlib.figure.Figure at 0x123a57518>"
      ]
     },
     "metadata": {},
     "output_type": "display_data"
    }
   ],
   "source": [
    "# Get X and y\n",
    "X_two = df_processed_two.loc[:, df_processed_two.columns != 'risk'].values\n",
    "y_two = df_processed_two.loc[:, 'risk'].values\n",
    "# Set X_train, X_test, y_train and y_test\n",
    "X_two_train, X_two_test, y_two_train, y_two_test = train_test_split(X_two, y_two, test_size=0.2, random_state=42)\n",
    "# Import module\n",
    "from sklearn.tree import DecisionTreeRegressor\n",
    "# Initialize SVC model\n",
    "model_two = DecisionTreeRegressor(random_state=42)\n",
    "# Param grid for GridSearchCV\n",
    "param_grid_two = {'max_depth':[ 300, 200, 100, 50, 10],\n",
    "              'min_samples_split':[5, 6, 7, 8]}\n",
    "# Make scorer function\n",
    "from sklearn.metrics import make_scorer\n",
    "mrae_based_score = make_scorer(custom_loss_func, greater_is_better=True)\n",
    "# Initialize GridSearchCV\n",
    "cv_two = GridSearchCV(model_two, param_grid_two, cv=5, scoring=mrae_based_score, return_train_score=True)\n",
    "# Fit GridSearchCV. Find optimal.\n",
    "cv_two.fit(X_two_train, y_two_train)\n",
    "# Predict\n",
    "y_two_pred = cv_two.predict(X_two_test)\n",
    "# Metrics\n",
    "print(\"Custom MRAE Based Score: {}\".format(cv_two.score(X_two_test, y_two_test)))\n",
    "print(\"Custom MRAE: {}\".format(custom_mrae(y_two_test, y_two_pred)))\n",
    "print(\"Tuned Model Parameters: {}\".format(cv_two.best_params_))\n",
    "# Plot heatmap\n",
    "plot_heatmap(cv_two, param_grid_two, 'max_depth', 'min_samples_split')"
   ]
  },
  {
   "cell_type": "code",
   "execution_count": 15,
   "metadata": {},
   "outputs": [
    {
     "name": "stdout",
     "output_type": "stream",
     "text": [
      "Standard Deviation Test Scores: [ 0.0011235   0.00170697  0.00137123  0.00122724  0.0011235   0.00170697\n",
      "  0.00137123  0.00122724  0.0011235   0.00170697  0.00137123  0.00122724\n",
      "  0.0011235   0.00170697  0.00137123  0.00122724  0.003982    0.00422636\n",
      "  0.00429563  0.00414703]\n",
      "\n",
      "\n",
      "Standard Deviation Train Scores: [ 0.00061224  0.00070621  0.00073245  0.00077593  0.00061224  0.00070621\n",
      "  0.00073245  0.00077593  0.00061224  0.00070621  0.00073245  0.00077593\n",
      "  0.00061224  0.00070621  0.00073245  0.00077593  0.00199752  0.00202345\n",
      "  0.0020481   0.0020423 ]\n"
     ]
    }
   ],
   "source": [
    "# Check how robust the model is checking the standard deviations of the scores\n",
    "print(\"Standard Deviation Test Scores: {}\".format(cv_two.cv_results_['std_test_score']))\n",
    "print(\"\\n\")\n",
    "print(\"Standard Deviation Train Scores: {}\".format(cv_two.cv_results_['std_train_score']))"
   ]
  },
  {
   "cell_type": "code",
   "execution_count": 17,
   "metadata": {},
   "outputs": [
    {
     "name": "stdout",
     "output_type": "stream",
     "text": [
      "MRAE: 0.0189522417962212\n"
     ]
    }
   ],
   "source": [
    "# MRAE Metric\n",
    "print(\"MRAE: {}\".format(custom_mrae(y_two_test, y_two_pred)))"
   ]
  },
  {
   "cell_type": "code",
   "execution_count": 22,
   "metadata": {},
   "outputs": [
    {
     "name": "stdout",
     "output_type": "stream",
     "text": [
      "Final Score: 1.9646749622340056\n"
     ]
    }
   ],
   "source": [
    "# Final score\n",
    "from sklearn.metrics import f1_score\n",
    "print(\"Final Score: {}\".format(f1_score(y_test, y_pred) + 1 - custom_mrae(y_two_test, y_two_pred)))"
   ]
  }
 ],
 "metadata": {
  "kernelspec": {
   "display_name": "Python (3.6.1)",
   "language": "python",
   "name": "py361"
  },
  "language_info": {
   "codemirror_mode": {
    "name": "ipython",
    "version": 3
   },
   "file_extension": ".py",
   "mimetype": "text/x-python",
   "name": "python",
   "nbconvert_exporter": "python",
   "pygments_lexer": "ipython3",
   "version": "3.6.1"
  }
 },
 "nbformat": 4,
 "nbformat_minor": 2
}
