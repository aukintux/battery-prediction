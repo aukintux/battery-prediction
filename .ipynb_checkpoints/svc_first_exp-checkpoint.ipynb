{
 "cells": [
  {
   "cell_type": "markdown",
   "metadata": {},
   "source": [
    "##### ML Pipeline"
   ]
  },
  {
   "cell_type": "markdown",
   "metadata": {},
   "source": [
    "The procedure goes as follows:\n",
    "\n",
    "1. Convert categorical variables into dummy variables.\n",
    "2. Standarize features using StandardScaler.\n",
    "3. Classify data into two categories: risk=0 or risk!=0.\n",
    "4. If risk!=0 then classify the observation into risk=-1 or risk!=-1.\n",
    "5. If risk!=-1 then use a regression algorithm to predict the risk value."
   ]
  },
  {
   "cell_type": "code",
   "execution_count": 1,
   "metadata": {
    "collapsed": true
   },
   "outputs": [],
   "source": [
    "# Import the data\n",
    "import pandas as pd\n",
    "df = pd.read_csv('./contest_public/train.csv')"
   ]
  },
  {
   "cell_type": "code",
   "execution_count": 2,
   "metadata": {
    "collapsed": true
   },
   "outputs": [],
   "source": [
    "# Turn categorical variabkles into dummy variables\n",
    "df_dummies = pd.get_dummies(df, drop_first=True)"
   ]
  },
  {
   "cell_type": "code",
   "execution_count": 3,
   "metadata": {
    "collapsed": true
   },
   "outputs": [],
   "source": [
    "# Set X and y\n",
    "X = df_dummies.loc[:, df_dummies.columns != 'risk'].values\n",
    "y = df.loc[:, 'risk'].map(lambda x: 1 if x == 0 else 0)\n",
    "# Set X_train, X_test, y_train and y_test\n",
    "from sklearn.model_selection import train_test_split\n",
    "X_train, X_test, y_train, y_test = train_test_split(X, y, test_size=0.2, random_state=42)"
   ]
  },
  {
   "cell_type": "code",
   "execution_count": 7,
   "metadata": {},
   "outputs": [
    {
     "name": "stderr",
     "output_type": "stream",
     "text": [
      "/Users/pedroatencio/anaconda/envs/py361/lib/python3.6/site-packages/sklearn/utils/validation.py:475: DataConversionWarning: Data with input dtype int64 was converted to float64 by StandardScaler.\n",
      "  warnings.warn(msg, DataConversionWarning)\n"
     ]
    }
   ],
   "source": [
    "# Scale features\n",
    "from sklearn.preprocessing import StandardScaler\n",
    "from sklearn.pipeline import Pipeline\n",
    "from sklearn.svm import SVC\n",
    "from sklearn.model_selection import GridSearchCV\n",
    "\n",
    "# Set up the steps for the Pipeline\n",
    "steps = [('scaler', StandardScaler()),\n",
    "        ('SVM', SVC())]\n",
    "# Initialize Pipeline\n",
    "pipeline = Pipeline(steps)\n",
    "pipeline.fit(X_train, y_train)\n",
    "# Param grid for GridSearchCV\n",
    "param_grid = { 'knn__n_neighbors': range(1, 20, 2)}\n",
    "# Initialize GridSearchCV\n",
    "#cv = GridSearchCV(pipeline, param_grid, cv=5)\n",
    "# Fit GridSearchCv\n",
    "#cv.fit(X_train, y_train)\n",
    "# Predictions\n",
    "#y_pred = cv.predict(X_test)\n",
    "# Metrics\n",
    "#print(\"Accuracy: {}\".format(cv.score(X_test, y_test)))\n",
    "#print(classification_report(y_test, y_pred))\n",
    "#print(\"Tuned Model Parameters: {}\".format(cv.best_params_))"
   ]
  },
  {
   "cell_type": "code",
   "execution_count": 8,
   "metadata": {},
   "outputs": [
    {
     "name": "stderr",
     "output_type": "stream",
     "text": [
      "/Users/pedroatencio/anaconda/envs/py361/lib/python3.6/site-packages/sklearn/utils/validation.py:475: DataConversionWarning: Data with input dtype int64 was converted to float64 by StandardScaler.\n",
      "  warnings.warn(msg, DataConversionWarning)\n"
     ]
    },
    {
     "data": {
      "text/plain": [
       "0.99539991949859119"
      ]
     },
     "execution_count": 8,
     "metadata": {},
     "output_type": "execute_result"
    }
   ],
   "source": [
    "pipeline.score(X_test, y_test)"
   ]
  }
 ],
 "metadata": {
  "kernelspec": {
   "display_name": "Python (3.6.1)",
   "language": "python",
   "name": "py361"
  },
  "language_info": {
   "codemirror_mode": {
    "name": "ipython",
    "version": 3
   },
   "file_extension": ".py",
   "mimetype": "text/x-python",
   "name": "python",
   "nbconvert_exporter": "python",
   "pygments_lexer": "ipython3",
   "version": "3.6.1"
  }
 },
 "nbformat": 4,
 "nbformat_minor": 2
}
